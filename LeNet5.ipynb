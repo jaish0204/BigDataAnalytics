{
  "cells": [
    {
      "cell_type": "markdown",
      "metadata": {
        "id": "view-in-github",
        "colab_type": "text"
      },
      "source": [
        "<a href=\"https://colab.research.google.com/github/jaish0204/DataAnalytics/blob/main/LeNet5.ipynb\" target=\"_parent\"><img src=\"https://colab.research.google.com/assets/colab-badge.svg\" alt=\"Open In Colab\"/></a>"
      ]
    },
    {
      "cell_type": "markdown",
      "metadata": {
        "id": "EDbJWoO1yO8e"
      },
      "source": [
        "# Image Classification with CNN - LeNet5 architecture"
      ]
    },
    {
      "cell_type": "markdown",
      "metadata": {
        "id": "JzQxqD6HyO8i"
      },
      "source": [
        "In this exercise, we will apply the LeNet5 algorithm to the Fashion MNIST dataset and improve your performances."
      ]
    },
    {
      "cell_type": "markdown",
      "metadata": {
        "id": "XFyVotRvyO8j"
      },
      "source": [
        "We will first download the data:"
      ]
    },
    {
      "cell_type": "code",
      "execution_count": 1,
      "metadata": {
        "colab": {
          "base_uri": "https://localhost:8080/"
        },
        "id": "RTHLyL1fyO8j",
        "outputId": "a5d366e8-a77a-4d2f-9b9c-3ad28935d887",
        "scrolled": true
      },
      "outputs": [
        {
          "output_type": "stream",
          "name": "stdout",
          "text": [
            "Downloading data from https://storage.googleapis.com/tensorflow/tf-keras-datasets/train-labels-idx1-ubyte.gz\n",
            "32768/29515 [=================================] - 0s 0us/step\n",
            "40960/29515 [=========================================] - 0s 0us/step\n",
            "Downloading data from https://storage.googleapis.com/tensorflow/tf-keras-datasets/train-images-idx3-ubyte.gz\n",
            "26427392/26421880 [==============================] - 0s 0us/step\n",
            "26435584/26421880 [==============================] - 0s 0us/step\n",
            "Downloading data from https://storage.googleapis.com/tensorflow/tf-keras-datasets/t10k-labels-idx1-ubyte.gz\n",
            "16384/5148 [===============================================================================================] - 0s 0us/step\n",
            "Downloading data from https://storage.googleapis.com/tensorflow/tf-keras-datasets/t10k-images-idx3-ubyte.gz\n",
            "4423680/4422102 [==============================] - 0s 0us/step\n",
            "4431872/4422102 [==============================] - 0s 0us/step\n"
          ]
        },
        {
          "output_type": "execute_result",
          "data": {
            "text/plain": [
              "(60000, 28, 28)"
            ]
          },
          "metadata": {},
          "execution_count": 1
        }
      ],
      "source": [
        "# TODO: Load the dataset\n",
        "from tensorflow.keras.datasets import fashion_mnist\n",
        "\n",
        "(X_train, y_train), (X_test, y_test) = fashion_mnist.load_data()\n",
        "\n",
        "# # # If your computer is slow, try to use a subset of data, e.g.\n",
        "# X_train = X_train[:10000]\n",
        "# y_train = y_train[:10000]\n",
        "# X_test = X_test[:2000]\n",
        "# y_test = y_test[:2000]\n",
        "X_train.shape"
      ]
    },
    {
      "cell_type": "markdown",
      "metadata": {
        "id": "c8ShXIANyO8l"
      },
      "source": [
        "As you already know, this dataset contains 10 classes:\n",
        "* 0:\tT-shirt/top\n",
        "* 1:\tTrouser\n",
        "* 2:\tPullover\n",
        "* 3:\tDress\n",
        "* 4:\tCoat\n",
        "* 5:\tSandal\n",
        "* 6:\tShirt\n",
        "* 7:\tSneaker\n",
        "* 8:\tBag\n",
        "* 9:\tAnkle boot"
      ]
    },
    {
      "cell_type": "markdown",
      "metadata": {
        "id": "_BvNG0PbyO8l"
      },
      "source": [
        "You can have a look at some images if needed, even if you already know them."
      ]
    },
    {
      "cell_type": "code",
      "execution_count": 2,
      "metadata": {
        "colab": {
          "base_uri": "https://localhost:8080/",
          "height": 281
        },
        "id": "lnjqgv-GyO8m",
        "outputId": "da9ed0ec-5d2b-418c-8f33-85336c89fa77",
        "scrolled": true
      },
      "outputs": [
        {
          "output_type": "display_data",
          "data": {
            "text/plain": [
              "<Figure size 432x288 with 1 Axes>"
            ],
            "image/png": "[encoded data removed]"
          },
          "metadata": {
            "needs_background": "light"
          }
        }
      ],
      "source": [
        "# TODO: Explore the data, display some input images\n",
        "%matplotlib inline\n",
        "import matplotlib.pyplot as plt\n",
        "import numpy as np\n",
        "\n",
        "label_class = ['top', 'trouser', 'pullover', 'dress', 'coat', 'sandal', 'shirt', 'sneaker', 'bag', 'ankle boot']\n",
        "\n",
        "idx = np.random.randint(X_train.shape[0])\n",
        "\n",
        "plt.imshow(X_train[idx],cmap=\"gray_r\")\n",
        "plt.title(label_class[y_train[idx]])\n",
        "plt.show()\n",
        "plt.show()"
      ]
    },
    {
      "cell_type": "markdown",
      "metadata": {
        "id": "AdYH6XW1yO8n"
      },
      "source": [
        "Make the data preparation and preprocessing: scale and reshape the data, put the labels to the good shape."
      ]
    },
    {
      "cell_type": "code",
      "execution_count": 3,
      "metadata": {
        "colab": {
          "base_uri": "https://localhost:8080/"
        },
        "id": "fjv8XMPByO8o",
        "outputId": "08573f0e-5d22-4597-9ea4-eca913e9996d"
      },
      "outputs": [
        {
          "output_type": "execute_result",
          "data": {
            "text/plain": [
              "(60000, 28, 28, 1)"
            ]
          },
          "metadata": {},
          "execution_count": 3
        }
      ],
      "source": [
        "# TODO: Make the data preparation\n",
        "from tensorflow.keras.utils import to_categorical\n",
        "\n",
        "y_train_cat = to_categorical(y_train,num_classes=10)\n",
        "y_test_cat = to_categorical(y_test,num_classes=10)\n",
        "\n",
        "X_train_norm = X_train/225\n",
        "X_test_norm = X_test/225\n",
        "\n",
        "\n",
        "X_train_norm = X_train_norm.reshape(X_train_norm.shape[0], 28, 28, 1)\n",
        "X_test_norm = X_test_norm.reshape(X_test_norm.shape[0], 28, 28, 1)\n",
        "\n",
        "X_train_norm.shape #Should be (60000, 28, 28, 1)"
      ]
    },
    {
      "cell_type": "markdown",
      "metadata": {
        "id": "y9LKzxR9yO8o"
      },
      "source": [
        "Now build the LeNet5 architecture. You can reuse the one of the course, or try to build it by yourself.\n",
        "\n",
        "The architecture is the following:\n",
        "\n",
        "<p align=\"center\">\n",
        "<img src=\"https://drive.google.com/uc?export=view&id=1WteTU2FPIVMkBKmMxGpFm5OjsX-szTbB\">\n",
        "</p>"
      ]
    },
    {
      "cell_type": "code",
      "execution_count": 4,
      "metadata": {
        "colab": {
          "base_uri": "https://localhost:8080/"
        },
        "id": "GKyMFlL6yO8o",
        "outputId": "cecb8dab-a623-4f8c-9ed6-6cf5be2cd193"
      },
      "outputs": [
        {
          "output_type": "stream",
          "name": "stdout",
          "text": [
            "Model: \"sequential\"\n",
            "_________________________________________________________________\n",
            " Layer (type)                Output Shape              Param #   \n",
            "=================================================================\n",
            " C1 (Conv2D)                 (None, 26, 26, 6)         60        \n",
            "                                                                 \n",
            " S2 (MaxPooling2D)           (None, 13, 13, 6)         0         \n",
            "                                                                 \n",
            " C3 (Conv2D)                 (None, 11, 11, 1)         55        \n",
            "                                                                 \n",
            " S4 (MaxPooling2D)           (None, 5, 5, 1)           0         \n",
            "                                                                 \n",
            " flatten (Flatten)           (None, 25)                0         \n",
            "                                                                 \n",
            " C5 (Dense)                  (None, 120)               3120      \n",
            "                                                                 \n",
            " F5 (Dense)                  (None, 84)                10164     \n",
            "                                                                 \n",
            " dense (Dense)               (None, 10)                850       \n",
            "                                                                 \n",
            "=================================================================\n",
            "Total params: 14,249\n",
            "Trainable params: 14,249\n",
            "Non-trainable params: 0\n",
            "_________________________________________________________________\n"
          ]
        }
      ],
      "source": [
        "# TODO: Build your model\n",
        "from tensorflow.keras.models import Sequential\n",
        "from tensorflow.keras.layers import MaxPooling2D, Conv2D, Flatten, Dense\n",
        "\n",
        "\n",
        "def lenet5():\n",
        "    \n",
        "    model = Sequential()\n",
        "\n",
        "    # Layer C1\n",
        "    model.add(Conv2D(filters=6, name='C1', kernel_size=(3, 3), activation='relu', input_shape=(28,28,1)))\n",
        "    # Layer S2\n",
        "    model.add(MaxPooling2D(pool_size=(2, 2), name='S2'))\n",
        "    # Layer C3\n",
        "    model.add(Conv2D(filters=1, name='C3',kernel_size=(3,3),activation='relu'))\n",
        "    # Layer S4\n",
        "    model.add(MaxPooling2D(pool_size=(2, 2), name='S4'))\n",
        "    # Before going into layer C5, we flatten our units\n",
        "    model.add(Flatten())\n",
        "    # Layer C5\n",
        "    model.add(Dense(120,activation='relu',name=\"C5\"))\n",
        "    # Layer F6\n",
        "    model.add(Dense(84,activation='relu',name=\"F5\"))\n",
        "    # Output layer\n",
        "    model.add(Dense(units=10, activation = 'softmax'))\n",
        "    \n",
        "    return model\n",
        "\n",
        "lenet5().summary()"
      ]
    },
    {
      "cell_type": "markdown",
      "metadata": {
        "id": "i1qBEauqyO8p"
      },
      "source": [
        "Now compile and fit your model on your training data. Since this is a multiclass classification, the loss is not `binary_crossentropy` anymore, but `categorical_crossentropy`."
      ]
    },
    {
      "cell_type": "code",
      "execution_count": 5,
      "metadata": {
        "colab": {
          "base_uri": "https://localhost:8080/"
        },
        "id": "nPL3aKnyyO8p",
        "outputId": "fe8ed40f-3ed8-4eba-d686-731754cccd97",
        "scrolled": true
      },
      "outputs": [
        {
          "output_type": "stream",
          "name": "stdout",
          "text": [
            "Epoch 1/100\n",
            "30/30 [==============================] - 13s 37ms/step - loss: 2.2736 - accuracy: 0.2174 - val_loss: 2.1518 - val_accuracy: 0.2426\n",
            "Epoch 2/100\n",
            "30/30 [==============================] - 1s 21ms/step - loss: 1.8954 - accuracy: 0.3241 - val_loss: 1.5830 - val_accuracy: 0.5322\n",
            "Epoch 3/100\n",
            "30/30 [==============================] - 1s 22ms/step - loss: 1.2808 - accuracy: 0.5784 - val_loss: 1.0336 - val_accuracy: 0.6277\n",
            "Epoch 4/100\n",
            "30/30 [==============================] - 1s 21ms/step - loss: 0.9051 - accuracy: 0.6660 - val_loss: 0.8335 - val_accuracy: 0.6917\n",
            "Epoch 5/100\n",
            "30/30 [==============================] - 1s 21ms/step - loss: 0.7768 - accuracy: 0.7088 - val_loss: 0.7565 - val_accuracy: 0.7200\n",
            "Epoch 6/100\n",
            "30/30 [==============================] - 1s 22ms/step - loss: 0.7200 - accuracy: 0.7272 - val_loss: 0.7169 - val_accuracy: 0.7330\n",
            "Epoch 7/100\n",
            "30/30 [==============================] - 1s 21ms/step - loss: 0.6833 - accuracy: 0.7426 - val_loss: 0.6909 - val_accuracy: 0.7436\n",
            "Epoch 8/100\n",
            "30/30 [==============================] - 1s 21ms/step - loss: 0.6578 - accuracy: 0.7523 - val_loss: 0.6689 - val_accuracy: 0.7483\n",
            "Epoch 9/100\n",
            "30/30 [==============================] - 1s 21ms/step - loss: 0.6377 - accuracy: 0.7612 - val_loss: 0.6477 - val_accuracy: 0.7581\n",
            "Epoch 10/100\n",
            "30/30 [==============================] - 1s 22ms/step - loss: 0.6218 - accuracy: 0.7681 - val_loss: 0.6323 - val_accuracy: 0.7655\n",
            "Epoch 11/100\n",
            "30/30 [==============================] - 1s 21ms/step - loss: 0.6042 - accuracy: 0.7741 - val_loss: 0.6259 - val_accuracy: 0.7722\n",
            "Epoch 12/100\n",
            "30/30 [==============================] - 1s 21ms/step - loss: 0.5913 - accuracy: 0.7806 - val_loss: 0.6060 - val_accuracy: 0.7800\n",
            "Epoch 13/100\n",
            "30/30 [==============================] - 1s 21ms/step - loss: 0.5794 - accuracy: 0.7867 - val_loss: 0.5964 - val_accuracy: 0.7848\n",
            "Epoch 14/100\n",
            "30/30 [==============================] - 1s 22ms/step - loss: 0.5674 - accuracy: 0.7911 - val_loss: 0.5871 - val_accuracy: 0.7889\n",
            "Epoch 15/100\n",
            "30/30 [==============================] - 1s 21ms/step - loss: 0.5580 - accuracy: 0.7955 - val_loss: 0.5793 - val_accuracy: 0.7897\n",
            "Epoch 16/100\n",
            "30/30 [==============================] - 1s 21ms/step - loss: 0.5515 - accuracy: 0.7978 - val_loss: 0.5771 - val_accuracy: 0.7925\n",
            "Epoch 17/100\n",
            "30/30 [==============================] - 1s 22ms/step - loss: 0.5439 - accuracy: 0.8017 - val_loss: 0.5663 - val_accuracy: 0.7960\n",
            "Epoch 18/100\n",
            "30/30 [==============================] - 1s 21ms/step - loss: 0.5381 - accuracy: 0.8036 - val_loss: 0.5607 - val_accuracy: 0.7985\n",
            "Epoch 19/100\n",
            "30/30 [==============================] - 1s 21ms/step - loss: 0.5302 - accuracy: 0.8072 - val_loss: 0.5580 - val_accuracy: 0.7993\n",
            "Epoch 20/100\n",
            "30/30 [==============================] - 1s 21ms/step - loss: 0.5243 - accuracy: 0.8097 - val_loss: 0.5516 - val_accuracy: 0.8013\n",
            "Epoch 21/100\n",
            "30/30 [==============================] - 1s 20ms/step - loss: 0.5210 - accuracy: 0.8114 - val_loss: 0.5517 - val_accuracy: 0.7999\n",
            "Epoch 22/100\n",
            "30/30 [==============================] - 1s 21ms/step - loss: 0.5155 - accuracy: 0.8125 - val_loss: 0.5472 - val_accuracy: 0.8017\n",
            "Epoch 23/100\n",
            "30/30 [==============================] - 1s 21ms/step - loss: 0.5125 - accuracy: 0.8136 - val_loss: 0.5521 - val_accuracy: 0.8008\n",
            "Epoch 24/100\n",
            "30/30 [==============================] - 1s 21ms/step - loss: 0.5088 - accuracy: 0.8154 - val_loss: 0.5416 - val_accuracy: 0.7993\n",
            "Epoch 25/100\n",
            "30/30 [==============================] - 1s 21ms/step - loss: 0.5050 - accuracy: 0.8168 - val_loss: 0.5348 - val_accuracy: 0.8047\n",
            "Epoch 26/100\n",
            "30/30 [==============================] - 1s 21ms/step - loss: 0.4961 - accuracy: 0.8199 - val_loss: 0.5275 - val_accuracy: 0.8101\n",
            "Epoch 27/100\n",
            "30/30 [==============================] - 1s 21ms/step - loss: 0.4906 - accuracy: 0.8234 - val_loss: 0.5232 - val_accuracy: 0.8109\n",
            "Epoch 28/100\n",
            "30/30 [==============================] - 1s 21ms/step - loss: 0.4856 - accuracy: 0.8253 - val_loss: 0.5192 - val_accuracy: 0.8118\n",
            "Epoch 29/100\n",
            "30/30 [==============================] - 1s 21ms/step - loss: 0.4818 - accuracy: 0.8254 - val_loss: 0.5167 - val_accuracy: 0.8119\n",
            "Epoch 30/100\n",
            "30/30 [==============================] - 1s 21ms/step - loss: 0.4779 - accuracy: 0.8269 - val_loss: 0.5105 - val_accuracy: 0.8153\n",
            "Epoch 31/100\n",
            "30/30 [==============================] - 1s 21ms/step - loss: 0.4730 - accuracy: 0.8295 - val_loss: 0.5086 - val_accuracy: 0.8161\n",
            "Epoch 32/100\n",
            "30/30 [==============================] - 1s 21ms/step - loss: 0.4700 - accuracy: 0.8301 - val_loss: 0.5094 - val_accuracy: 0.8151\n",
            "Epoch 33/100\n",
            "30/30 [==============================] - 1s 21ms/step - loss: 0.4662 - accuracy: 0.8314 - val_loss: 0.5047 - val_accuracy: 0.8176\n",
            "Epoch 34/100\n",
            "30/30 [==============================] - 1s 22ms/step - loss: 0.4637 - accuracy: 0.8318 - val_loss: 0.5002 - val_accuracy: 0.8194\n",
            "Epoch 35/100\n",
            "30/30 [==============================] - 1s 22ms/step - loss: 0.4616 - accuracy: 0.8329 - val_loss: 0.5004 - val_accuracy: 0.8187\n",
            "Epoch 36/100\n",
            "30/30 [==============================] - 1s 22ms/step - loss: 0.4585 - accuracy: 0.8349 - val_loss: 0.4956 - val_accuracy: 0.8172\n",
            "Epoch 37/100\n",
            "30/30 [==============================] - 1s 21ms/step - loss: 0.4572 - accuracy: 0.8340 - val_loss: 0.4979 - val_accuracy: 0.8192\n",
            "Epoch 38/100\n",
            "30/30 [==============================] - 1s 21ms/step - loss: 0.4544 - accuracy: 0.8348 - val_loss: 0.4890 - val_accuracy: 0.8227\n",
            "Epoch 39/100\n",
            "30/30 [==============================] - 1s 21ms/step - loss: 0.4501 - accuracy: 0.8362 - val_loss: 0.4864 - val_accuracy: 0.8227\n",
            "Epoch 40/100\n",
            "30/30 [==============================] - 1s 21ms/step - loss: 0.4488 - accuracy: 0.8374 - val_loss: 0.4874 - val_accuracy: 0.8250\n",
            "Epoch 41/100\n",
            "30/30 [==============================] - 1s 21ms/step - loss: 0.4481 - accuracy: 0.8370 - val_loss: 0.4835 - val_accuracy: 0.8232\n",
            "Epoch 42/100\n",
            "30/30 [==============================] - 1s 21ms/step - loss: 0.4458 - accuracy: 0.8375 - val_loss: 0.4912 - val_accuracy: 0.8226\n",
            "Epoch 43/100\n",
            "30/30 [==============================] - 1s 22ms/step - loss: 0.4433 - accuracy: 0.8377 - val_loss: 0.4784 - val_accuracy: 0.8237\n",
            "Epoch 44/100\n",
            "30/30 [==============================] - 1s 22ms/step - loss: 0.4409 - accuracy: 0.8388 - val_loss: 0.4819 - val_accuracy: 0.8216\n",
            "Epoch 45/100\n",
            "30/30 [==============================] - 1s 21ms/step - loss: 0.4389 - accuracy: 0.8396 - val_loss: 0.4760 - val_accuracy: 0.8248\n",
            "Epoch 46/100\n",
            "30/30 [==============================] - 1s 21ms/step - loss: 0.4363 - accuracy: 0.8404 - val_loss: 0.4766 - val_accuracy: 0.8257\n",
            "Epoch 47/100\n",
            "30/30 [==============================] - 1s 21ms/step - loss: 0.4344 - accuracy: 0.8415 - val_loss: 0.4743 - val_accuracy: 0.8248\n",
            "Epoch 48/100\n",
            "30/30 [==============================] - 1s 21ms/step - loss: 0.4321 - accuracy: 0.8426 - val_loss: 0.4744 - val_accuracy: 0.8268\n",
            "Epoch 49/100\n",
            "30/30 [==============================] - 1s 21ms/step - loss: 0.4323 - accuracy: 0.8409 - val_loss: 0.4705 - val_accuracy: 0.8253\n",
            "Epoch 50/100\n",
            "30/30 [==============================] - 1s 21ms/step - loss: 0.4295 - accuracy: 0.8425 - val_loss: 0.4690 - val_accuracy: 0.8285\n",
            "Epoch 51/100\n",
            "30/30 [==============================] - 1s 21ms/step - loss: 0.4285 - accuracy: 0.8435 - val_loss: 0.4679 - val_accuracy: 0.8272\n",
            "Epoch 52/100\n",
            "30/30 [==============================] - 1s 21ms/step - loss: 0.4293 - accuracy: 0.8425 - val_loss: 0.4677 - val_accuracy: 0.8256\n",
            "Epoch 53/100\n",
            "30/30 [==============================] - 1s 22ms/step - loss: 0.4254 - accuracy: 0.8437 - val_loss: 0.4659 - val_accuracy: 0.8262\n",
            "Epoch 54/100\n",
            "30/30 [==============================] - 1s 21ms/step - loss: 0.4229 - accuracy: 0.8451 - val_loss: 0.4637 - val_accuracy: 0.8265\n",
            "Epoch 55/100\n",
            "30/30 [==============================] - 1s 21ms/step - loss: 0.4230 - accuracy: 0.8443 - val_loss: 0.4640 - val_accuracy: 0.8294\n",
            "Epoch 56/100\n",
            "30/30 [==============================] - 1s 22ms/step - loss: 0.4223 - accuracy: 0.8438 - val_loss: 0.4622 - val_accuracy: 0.8279\n",
            "Epoch 57/100\n",
            "30/30 [==============================] - 1s 21ms/step - loss: 0.4172 - accuracy: 0.8470 - val_loss: 0.4606 - val_accuracy: 0.8284\n",
            "Epoch 58/100\n",
            "30/30 [==============================] - 1s 21ms/step - loss: 0.4191 - accuracy: 0.8452 - val_loss: 0.4614 - val_accuracy: 0.8299\n",
            "Epoch 59/100\n",
            "30/30 [==============================] - 1s 20ms/step - loss: 0.4166 - accuracy: 0.8471 - val_loss: 0.4598 - val_accuracy: 0.8296\n",
            "Epoch 60/100\n",
            "30/30 [==============================] - 1s 22ms/step - loss: 0.4164 - accuracy: 0.8465 - val_loss: 0.4555 - val_accuracy: 0.8298\n",
            "Epoch 61/100\n",
            "30/30 [==============================] - 1s 21ms/step - loss: 0.4135 - accuracy: 0.8473 - val_loss: 0.4544 - val_accuracy: 0.8320\n",
            "Epoch 62/100\n",
            "30/30 [==============================] - 1s 21ms/step - loss: 0.4120 - accuracy: 0.8486 - val_loss: 0.4536 - val_accuracy: 0.8303\n",
            "Epoch 63/100\n",
            "30/30 [==============================] - 1s 21ms/step - loss: 0.4130 - accuracy: 0.8468 - val_loss: 0.4562 - val_accuracy: 0.8297\n",
            "Epoch 64/100\n",
            "30/30 [==============================] - 1s 21ms/step - loss: 0.4104 - accuracy: 0.8480 - val_loss: 0.4533 - val_accuracy: 0.8334\n",
            "Epoch 65/100\n",
            "30/30 [==============================] - 1s 21ms/step - loss: 0.4089 - accuracy: 0.8500 - val_loss: 0.4509 - val_accuracy: 0.8310\n",
            "Epoch 66/100\n",
            "30/30 [==============================] - 1s 21ms/step - loss: 0.4084 - accuracy: 0.8481 - val_loss: 0.4526 - val_accuracy: 0.8317\n",
            "Epoch 67/100\n",
            "30/30 [==============================] - 1s 22ms/step - loss: 0.4050 - accuracy: 0.8504 - val_loss: 0.4502 - val_accuracy: 0.8308\n",
            "Epoch 68/100\n",
            "30/30 [==============================] - 1s 21ms/step - loss: 0.4054 - accuracy: 0.8501 - val_loss: 0.4501 - val_accuracy: 0.8330\n",
            "Epoch 69/100\n",
            "30/30 [==============================] - 1s 21ms/step - loss: 0.4041 - accuracy: 0.8503 - val_loss: 0.4448 - val_accuracy: 0.8353\n",
            "Epoch 70/100\n",
            "30/30 [==============================] - 1s 21ms/step - loss: 0.4017 - accuracy: 0.8511 - val_loss: 0.4535 - val_accuracy: 0.8334\n",
            "Epoch 71/100\n",
            "30/30 [==============================] - 1s 21ms/step - loss: 0.4037 - accuracy: 0.8518 - val_loss: 0.4474 - val_accuracy: 0.8339\n",
            "Epoch 72/100\n",
            "30/30 [==============================] - 1s 21ms/step - loss: 0.3998 - accuracy: 0.8516 - val_loss: 0.4414 - val_accuracy: 0.8355\n",
            "Epoch 73/100\n",
            "30/30 [==============================] - 1s 21ms/step - loss: 0.3999 - accuracy: 0.8516 - val_loss: 0.4465 - val_accuracy: 0.8335\n",
            "Epoch 74/100\n",
            "30/30 [==============================] - 1s 21ms/step - loss: 0.4011 - accuracy: 0.8502 - val_loss: 0.4439 - val_accuracy: 0.8353\n",
            "Epoch 75/100\n",
            "30/30 [==============================] - 1s 21ms/step - loss: 0.3986 - accuracy: 0.8518 - val_loss: 0.4443 - val_accuracy: 0.8326\n",
            "Epoch 76/100\n",
            "30/30 [==============================] - 1s 21ms/step - loss: 0.3979 - accuracy: 0.8511 - val_loss: 0.4393 - val_accuracy: 0.8335\n",
            "Epoch 77/100\n",
            "30/30 [==============================] - 1s 22ms/step - loss: 0.3975 - accuracy: 0.8528 - val_loss: 0.4386 - val_accuracy: 0.8362\n",
            "Epoch 78/100\n",
            "30/30 [==============================] - 1s 21ms/step - loss: 0.3952 - accuracy: 0.8542 - val_loss: 0.4395 - val_accuracy: 0.8372\n",
            "Epoch 79/100\n",
            "30/30 [==============================] - 1s 21ms/step - loss: 0.3949 - accuracy: 0.8539 - val_loss: 0.4347 - val_accuracy: 0.8376\n",
            "Epoch 80/100\n",
            "30/30 [==============================] - 1s 21ms/step - loss: 0.3925 - accuracy: 0.8532 - val_loss: 0.4361 - val_accuracy: 0.8359\n",
            "Epoch 81/100\n",
            "30/30 [==============================] - 1s 22ms/step - loss: 0.3915 - accuracy: 0.8542 - val_loss: 0.4332 - val_accuracy: 0.8374\n",
            "Epoch 82/100\n",
            "30/30 [==============================] - 1s 21ms/step - loss: 0.3917 - accuracy: 0.8543 - val_loss: 0.4346 - val_accuracy: 0.8367\n",
            "Epoch 83/100\n",
            "30/30 [==============================] - 1s 22ms/step - loss: 0.3906 - accuracy: 0.8547 - val_loss: 0.4377 - val_accuracy: 0.8371\n",
            "Epoch 84/100\n",
            "30/30 [==============================] - 1s 21ms/step - loss: 0.3895 - accuracy: 0.8555 - val_loss: 0.4323 - val_accuracy: 0.8383\n",
            "Epoch 85/100\n",
            "30/30 [==============================] - 1s 21ms/step - loss: 0.3887 - accuracy: 0.8546 - val_loss: 0.4333 - val_accuracy: 0.8381\n",
            "Epoch 86/100\n",
            "30/30 [==============================] - 1s 27ms/step - loss: 0.3892 - accuracy: 0.8555 - val_loss: 0.4315 - val_accuracy: 0.8388\n",
            "Epoch 87/100\n",
            "30/30 [==============================] - 1s 23ms/step - loss: 0.3876 - accuracy: 0.8559 - val_loss: 0.4363 - val_accuracy: 0.8371\n",
            "Epoch 88/100\n",
            "30/30 [==============================] - 1s 28ms/step - loss: 0.3876 - accuracy: 0.8550 - val_loss: 0.4322 - val_accuracy: 0.8382\n",
            "Epoch 89/100\n",
            "30/30 [==============================] - 1s 29ms/step - loss: 0.3861 - accuracy: 0.8561 - val_loss: 0.4369 - val_accuracy: 0.8373\n",
            "Epoch 90/100\n",
            "30/30 [==============================] - 1s 21ms/step - loss: 0.3840 - accuracy: 0.8571 - val_loss: 0.4275 - val_accuracy: 0.8405\n",
            "Epoch 91/100\n",
            "30/30 [==============================] - 1s 22ms/step - loss: 0.3855 - accuracy: 0.8552 - val_loss: 0.4328 - val_accuracy: 0.8395\n",
            "Epoch 92/100\n",
            "30/30 [==============================] - 1s 21ms/step - loss: 0.3832 - accuracy: 0.8569 - val_loss: 0.4299 - val_accuracy: 0.8422\n",
            "Epoch 93/100\n",
            "30/30 [==============================] - 1s 22ms/step - loss: 0.3819 - accuracy: 0.8568 - val_loss: 0.4282 - val_accuracy: 0.8393\n",
            "Epoch 94/100\n",
            "30/30 [==============================] - 1s 21ms/step - loss: 0.3820 - accuracy: 0.8572 - val_loss: 0.4296 - val_accuracy: 0.8403\n",
            "Epoch 95/100\n",
            "30/30 [==============================] - 1s 21ms/step - loss: 0.3823 - accuracy: 0.8572 - val_loss: 0.4285 - val_accuracy: 0.8407\n",
            "Epoch 96/100\n",
            "30/30 [==============================] - 1s 22ms/step - loss: 0.3813 - accuracy: 0.8576 - val_loss: 0.4328 - val_accuracy: 0.8398\n",
            "Epoch 97/100\n",
            "30/30 [==============================] - 1s 21ms/step - loss: 0.3796 - accuracy: 0.8587 - val_loss: 0.4260 - val_accuracy: 0.8412\n",
            "Epoch 98/100\n",
            "30/30 [==============================] - 1s 21ms/step - loss: 0.3789 - accuracy: 0.8579 - val_loss: 0.4260 - val_accuracy: 0.8399\n",
            "Epoch 99/100\n",
            "30/30 [==============================] - 1s 21ms/step - loss: 0.3800 - accuracy: 0.8576 - val_loss: 0.4316 - val_accuracy: 0.8400\n",
            "Epoch 100/100\n",
            "30/30 [==============================] - 1s 22ms/step - loss: 0.3797 - accuracy: 0.8577 - val_loss: 0.4301 - val_accuracy: 0.8410\n"
          ]
        },
        {
          "output_type": "execute_result",
          "data": {
            "text/plain": [
              "<keras.callbacks.History at 0x7f350061e550>"
            ]
          },
          "metadata": {},
          "execution_count": 5
        }
      ],
      "source": [
        "# TODO: Compile and fit your model\n",
        "import os\n",
        "\n",
        "# os.environ['KMP_DUPLICATE_LIB_OK']='True' #https://stackoverflow.com/questions/53014306/error-15-initializing-libiomp5-dylib-but-found-libiomp5-dylib-already-initial\n",
        "\n",
        "\n",
        "from tensorflow.keras.callbacks import EarlyStopping\n",
        "from tensorflow.keras.callbacks import TensorBoard\n",
        "\n",
        "model = lenet5()\n",
        "\n",
        "model.compile(optimizer='adam', loss='categorical_crossentropy', metrics=['accuracy'])\n",
        "\n",
        "# Define now our callbacks\n",
        "# callbacks = [EarlyStopping(monitor='val_loss', patience=10), TensorBoard(log_dir='./keras-logs', histogram_freq=0, write_graph=True, write_images=True)]\n",
        "callbacks = [EarlyStopping(monitor='val_loss', patience=10)]\n",
        "\n",
        "# Finally fit the model\n",
        "model.fit(x=X_train_norm, y=y_train_cat, validation_data=(X_test_norm, y_test_cat), epochs=100, batch_size=2048, callbacks=callbacks)"
      ]
    },
    {
      "cell_type": "markdown",
      "metadata": {
        "id": "Rf-SqjjOyO8q"
      },
      "source": [
        "Have a look at the tensorboard and see if it gives a deeper understanding of your model."
      ]
    },
    {
      "cell_type": "markdown",
      "metadata": {
        "id": "k2FTj7TSyO8q"
      },
      "source": [
        "Compute then the accuracy of your model. Is it better than a regular MLP used before?"
      ]
    },
    {
      "cell_type": "code",
      "execution_count": 6,
      "metadata": {
        "colab": {
          "base_uri": "https://localhost:8080/"
        },
        "id": "rPjJoMQZyO8q",
        "outputId": "89ac934d-d1b2-4113-983e-714660d2120a"
      },
      "outputs": [
        {
          "output_type": "stream",
          "name": "stdout",
          "text": [
            "accuracy on train with CNN: 0.8566833333333334\n",
            "accuracy on test with CNN: 0.841\n"
          ]
        }
      ],
      "source": [
        "# TODO: Compute the accuracy of your model\n",
        "from sklearn.metrics import accuracy_score\n",
        "\n",
        "batch_size = 1024\n",
        "y_pred_train = to_categorical(model.predict(X_train_norm, batch_size=batch_size).argmax(axis=1), num_classes=10)\n",
        "y_pred_test = to_categorical(model.predict(X_test_norm, batch_size=batch_size).argmax(axis=1), num_classes=10)\n",
        "\n",
        "print('accuracy on train with CNN:', accuracy_score(y_pred_train, y_train_cat))\n",
        "print('accuracy on test with CNN:', accuracy_score(y_pred_test, y_test_cat))"
      ]
    },
    {
      "cell_type": "markdown",
      "metadata": {
        "id": "1vulsgHiyO8q"
      },
      "source": [
        "We will now add image augmentation to improve our results, especially we will try to reduce overfitting this way.\n",
        "\n",
        "To do so, you can use `ImageDataGenerator` from Keras that makes all the work for you (including rescaling), with the following parameter: \n",
        "* `horizontal_flip=True`\n",
        "\n",
        "For more info about how the `ImageDataGenerator` works, you can check out [this article](https://www.pyimagesearch.com/2019/07/08/keras-imagedatagenerator-and-data-augmentation/).\n",
        "\n",
        "Begin by creating an object `ImageDataGenerator` with this parameter."
      ]
    },
    {
      "cell_type": "code",
      "execution_count": 7,
      "metadata": {
        "ExecuteTime": {
          "end_time": "2020-08-19T11:58:37.442182Z",
          "start_time": "2020-08-19T11:58:37.438397Z"
        },
        "id": "pas-fMSIyO8q"
      },
      "outputs": [],
      "source": [
        "# TODO: Instantiate an ImageDataGenerator object\n",
        "from tensorflow.keras.preprocessing.image import ImageDataGenerator\n",
        "\n",
        "datagen = ImageDataGenerator(horizontal_flip=True)"
      ]
    },
    {
      "cell_type": "markdown",
      "metadata": {
        "id": "k7nCnu9syO8r"
      },
      "source": [
        "Finally, you can train your model using this generator, with the method `fit_generator` of your model and the method `flow` of your `ImageDataGenerator`."
      ]
    },
    {
      "cell_type": "code",
      "execution_count": 8,
      "metadata": {
        "colab": {
          "base_uri": "https://localhost:8080/"
        },
        "id": "Zt6wXa3IyO8r",
        "outputId": "ad8bb804-7f79-43f8-a778-26c1ae3390ea",
        "scrolled": true
      },
      "outputs": [
        {
          "output_type": "stream",
          "name": "stdout",
          "text": [
            "Epoch 1/100\n"
          ]
        },
        {
          "output_type": "stream",
          "name": "stderr",
          "text": [
            "/usr/local/lib/python3.7/dist-packages/ipykernel_launcher.py:5: UserWarning: `Model.fit_generator` is deprecated and will be removed in a future version. Please use `Model.fit`, which supports generators.\n",
            "  \"\"\"\n"
          ]
        },
        {
          "output_type": "stream",
          "name": "stdout",
          "text": [
            "58/58 [==============================] - 4s 55ms/step - loss: 0.6575 - accuracy: 0.7979 - val_loss: 0.4632 - val_accuracy: 0.8283\n",
            "Epoch 2/100\n",
            "58/58 [==============================] - 3s 56ms/step - loss: 0.4478 - accuracy: 0.8356 - val_loss: 0.4434 - val_accuracy: 0.8366\n",
            "Epoch 3/100\n",
            "58/58 [==============================] - 4s 61ms/step - loss: 0.4348 - accuracy: 0.8404 - val_loss: 0.4426 - val_accuracy: 0.8377\n",
            "Epoch 4/100\n",
            "58/58 [==============================] - 3s 54ms/step - loss: 0.4258 - accuracy: 0.8419 - val_loss: 0.4376 - val_accuracy: 0.8374\n",
            "Epoch 5/100\n",
            "58/58 [==============================] - 4s 60ms/step - loss: 0.4208 - accuracy: 0.8460 - val_loss: 0.4360 - val_accuracy: 0.8400\n",
            "Epoch 6/100\n",
            "58/58 [==============================] - 4s 60ms/step - loss: 0.4151 - accuracy: 0.8466 - val_loss: 0.4336 - val_accuracy: 0.8427\n",
            "Epoch 7/100\n",
            "58/58 [==============================] - 3s 56ms/step - loss: 0.4146 - accuracy: 0.8467 - val_loss: 0.4334 - val_accuracy: 0.8406\n",
            "Epoch 8/100\n",
            "58/58 [==============================] - 3s 55ms/step - loss: 0.4104 - accuracy: 0.8477 - val_loss: 0.4289 - val_accuracy: 0.8419\n",
            "Epoch 9/100\n",
            "58/58 [==============================] - 3s 54ms/step - loss: 0.4085 - accuracy: 0.8482 - val_loss: 0.4323 - val_accuracy: 0.8405\n",
            "Epoch 10/100\n",
            "58/58 [==============================] - 3s 59ms/step - loss: 0.4040 - accuracy: 0.8500 - val_loss: 0.4273 - val_accuracy: 0.8422\n",
            "Epoch 11/100\n",
            "58/58 [==============================] - 3s 59ms/step - loss: 0.4028 - accuracy: 0.8509 - val_loss: 0.4254 - val_accuracy: 0.8445\n",
            "Epoch 12/100\n",
            "58/58 [==============================] - 3s 54ms/step - loss: 0.3997 - accuracy: 0.8517 - val_loss: 0.4220 - val_accuracy: 0.8449\n",
            "Epoch 13/100\n",
            "58/58 [==============================] - 4s 61ms/step - loss: 0.3980 - accuracy: 0.8518 - val_loss: 0.4247 - val_accuracy: 0.8448\n",
            "Epoch 14/100\n",
            "58/58 [==============================] - 3s 53ms/step - loss: 0.3989 - accuracy: 0.8514 - val_loss: 0.4214 - val_accuracy: 0.8444\n",
            "Epoch 15/100\n",
            "58/58 [==============================] - 3s 59ms/step - loss: 0.3966 - accuracy: 0.8525 - val_loss: 0.4217 - val_accuracy: 0.8456\n",
            "Epoch 16/100\n",
            "58/58 [==============================] - 3s 55ms/step - loss: 0.3926 - accuracy: 0.8536 - val_loss: 0.4243 - val_accuracy: 0.8443\n",
            "Epoch 17/100\n",
            "58/58 [==============================] - 3s 59ms/step - loss: 0.3946 - accuracy: 0.8520 - val_loss: 0.4211 - val_accuracy: 0.8466\n",
            "Epoch 18/100\n",
            "58/58 [==============================] - 4s 60ms/step - loss: 0.3905 - accuracy: 0.8547 - val_loss: 0.4212 - val_accuracy: 0.8480\n",
            "Epoch 19/100\n",
            "58/58 [==============================] - 3s 54ms/step - loss: 0.3917 - accuracy: 0.8551 - val_loss: 0.4183 - val_accuracy: 0.8465\n",
            "Epoch 20/100\n",
            "58/58 [==============================] - 3s 59ms/step - loss: 0.3891 - accuracy: 0.8556 - val_loss: 0.4173 - val_accuracy: 0.8474\n",
            "Epoch 21/100\n",
            "58/58 [==============================] - 3s 60ms/step - loss: 0.3865 - accuracy: 0.8559 - val_loss: 0.4153 - val_accuracy: 0.8481\n",
            "Epoch 22/100\n",
            "58/58 [==============================] - 4s 61ms/step - loss: 0.3865 - accuracy: 0.8549 - val_loss: 0.4232 - val_accuracy: 0.8435\n",
            "Epoch 23/100\n",
            "58/58 [==============================] - 3s 54ms/step - loss: 0.3844 - accuracy: 0.8576 - val_loss: 0.4211 - val_accuracy: 0.8456\n",
            "Epoch 24/100\n",
            "58/58 [==============================] - 3s 59ms/step - loss: 0.3835 - accuracy: 0.8573 - val_loss: 0.4192 - val_accuracy: 0.8472\n",
            "Epoch 25/100\n",
            "58/58 [==============================] - 4s 61ms/step - loss: 0.3804 - accuracy: 0.8581 - val_loss: 0.4120 - val_accuracy: 0.8513\n",
            "Epoch 26/100\n",
            "58/58 [==============================] - 3s 59ms/step - loss: 0.3795 - accuracy: 0.8584 - val_loss: 0.4128 - val_accuracy: 0.8499\n",
            "Epoch 27/100\n",
            "58/58 [==============================] - 3s 55ms/step - loss: 0.3803 - accuracy: 0.8596 - val_loss: 0.4120 - val_accuracy: 0.8491\n",
            "Epoch 28/100\n",
            "58/58 [==============================] - 3s 59ms/step - loss: 0.3793 - accuracy: 0.8579 - val_loss: 0.4230 - val_accuracy: 0.8478\n",
            "Epoch 29/100\n",
            "58/58 [==============================] - 3s 56ms/step - loss: 0.3791 - accuracy: 0.8589 - val_loss: 0.4182 - val_accuracy: 0.8483\n",
            "Epoch 30/100\n",
            "58/58 [==============================] - 3s 54ms/step - loss: 0.3757 - accuracy: 0.8600 - val_loss: 0.4156 - val_accuracy: 0.8482\n",
            "Epoch 31/100\n",
            "58/58 [==============================] - 3s 55ms/step - loss: 0.3773 - accuracy: 0.8596 - val_loss: 0.4129 - val_accuracy: 0.8501\n",
            "Epoch 32/100\n",
            "58/58 [==============================] - 4s 60ms/step - loss: 0.3744 - accuracy: 0.8597 - val_loss: 0.4142 - val_accuracy: 0.8475\n",
            "Epoch 33/100\n",
            "58/58 [==============================] - 4s 60ms/step - loss: 0.3765 - accuracy: 0.8591 - val_loss: 0.4144 - val_accuracy: 0.8503\n",
            "Epoch 34/100\n",
            "58/58 [==============================] - 4s 61ms/step - loss: 0.3719 - accuracy: 0.8615 - val_loss: 0.4048 - val_accuracy: 0.8524\n",
            "Epoch 35/100\n",
            "58/58 [==============================] - 3s 59ms/step - loss: 0.3723 - accuracy: 0.8608 - val_loss: 0.4041 - val_accuracy: 0.8529\n",
            "Epoch 36/100\n",
            "58/58 [==============================] - 4s 61ms/step - loss: 0.3707 - accuracy: 0.8619 - val_loss: 0.4045 - val_accuracy: 0.8511\n",
            "Epoch 37/100\n",
            "58/58 [==============================] - 4s 60ms/step - loss: 0.3702 - accuracy: 0.8620 - val_loss: 0.4060 - val_accuracy: 0.8508\n",
            "Epoch 38/100\n",
            "58/58 [==============================] - 3s 55ms/step - loss: 0.3719 - accuracy: 0.8609 - val_loss: 0.4043 - val_accuracy: 0.8521\n",
            "Epoch 39/100\n",
            "58/58 [==============================] - 3s 53ms/step - loss: 0.3670 - accuracy: 0.8626 - val_loss: 0.4119 - val_accuracy: 0.8495\n",
            "Epoch 40/100\n",
            "58/58 [==============================] - 3s 59ms/step - loss: 0.3669 - accuracy: 0.8636 - val_loss: 0.4067 - val_accuracy: 0.8503\n",
            "Epoch 41/100\n",
            "58/58 [==============================] - 3s 55ms/step - loss: 0.3662 - accuracy: 0.8639 - val_loss: 0.4059 - val_accuracy: 0.8515\n",
            "Epoch 42/100\n",
            "58/58 [==============================] - 3s 55ms/step - loss: 0.3655 - accuracy: 0.8624 - val_loss: 0.4062 - val_accuracy: 0.8503\n",
            "Epoch 43/100\n",
            "58/58 [==============================] - 4s 61ms/step - loss: 0.3671 - accuracy: 0.8636 - val_loss: 0.4043 - val_accuracy: 0.8548\n",
            "Epoch 44/100\n",
            "58/58 [==============================] - 3s 55ms/step - loss: 0.3632 - accuracy: 0.8646 - val_loss: 0.4138 - val_accuracy: 0.8516\n",
            "Epoch 45/100\n",
            "58/58 [==============================] - 3s 59ms/step - loss: 0.3641 - accuracy: 0.8642 - val_loss: 0.4076 - val_accuracy: 0.8504\n"
          ]
        },
        {
          "output_type": "execute_result",
          "data": {
            "text/plain": [
              "<keras.callbacks.History at 0x7f35064d0e10>"
            ]
          },
          "metadata": {},
          "execution_count": 8
        }
      ],
      "source": [
        "# TODO: train your model\n",
        "batch_size = 1024\n",
        "model.fit_generator(datagen.flow(X_train_norm, y_train_cat, batch_size=batch_size),\n",
        "                    validation_data=(X_test_norm, y_test_cat), callbacks=callbacks,\n",
        "                    steps_per_epoch=len(X_train_norm) / batch_size, epochs=100)"
      ]
    },
    {
      "cell_type": "markdown",
      "metadata": {
        "id": "NuzFke8pyO8r"
      },
      "source": [
        "Recompute the accuracy of your model, does it improve your performances with data augmentation?"
      ]
    },
    {
      "cell_type": "code",
      "execution_count": 9,
      "metadata": {
        "colab": {
          "base_uri": "https://localhost:8080/"
        },
        "id": "jsTm86tuyO8r",
        "outputId": "0b432bab-06fd-42b4-e3eb-39a1d34e4e48"
      },
      "outputs": [
        {
          "output_type": "stream",
          "name": "stdout",
          "text": [
            "accuracy on train with CNN: 0.8644333333333334\n",
            "accuracy on test with CNN: 0.8504\n"
          ]
        }
      ],
      "source": [
        "# TODO: Compute the accuracy of your model\n",
        "from sklearn.metrics import accuracy_score\n",
        "\n",
        "batch_size=1024\n",
        "y_pred_train = to_categorical(model.predict(X_train_norm, batch_size=batch_size).argmax(axis=1), num_classes=10)\n",
        "y_pred_test = to_categorical(model.predict(X_test_norm, batch_size=batch_size).argmax(axis=1), num_classes=10)\n",
        "\n",
        "print('accuracy on train with CNN:', accuracy_score(y_pred_train, y_train_cat))\n",
        "print('accuracy on test with CNN:', accuracy_score(y_pred_test, y_test_cat))"
      ]
    },
    {
      "cell_type": "markdown",
      "metadata": {
        "id": "jOzkdGf7yO8s"
      },
      "source": [
        "You can now try to improve even more your results. For example, add more parameters to your `ImageDataGenerator`, play with some hyperparameters, and so on..."
      ]
    }
  ],
  "metadata": {
    "accelerator": "GPU",
    "colab": {
      "name": "LeNet5.ipynb",
      "provenance": [],
      "include_colab_link": true
    },
    "kernelspec": {
      "display_name": "Python 3 (ipykernel)",
      "language": "python",
      "name": "python3"
    },
    "language_info": {
      "codemirror_mode": {
        "name": "ipython",
        "version": 3
      },
      "file_extension": ".py",
      "mimetype": "text/x-python",
      "name": "python",
      "nbconvert_exporter": "python",
      "pygments_lexer": "ipython3",
      "version": "3.9.7"
    },
    "toc": {
      "base_numbering": 1,
      "nav_menu": {},
      "number_sections": true,
      "sideBar": true,
      "skip_h1_title": false,
      "title_cell": "Table of Contents",
      "title_sidebar": "Contents",
      "toc_cell": false,
      "toc_position": {},
      "toc_section_display": true,
      "toc_window_display": false
    },
    "varInspector": {
      "cols": {
        "lenName": 16,
        "lenType": 16,
        "lenVar": 40
      },
      "kernels_config": {
        "python": {
          "delete_cmd_postfix": "",
          "delete_cmd_prefix": "del ",
          "library": "var_list.py",
          "varRefreshCmd": "print(var_dic_list())"
        },
        "r": {
          "delete_cmd_postfix": ") ",
          "delete_cmd_prefix": "rm(",
          "library": "var_list.r",
          "varRefreshCmd": "cat(var_dic_list()) "
        }
      },
      "types_to_exclude": [
        "module",
        "function",
        "builtin_function_or_method",
        "instance",
        "_Feature"
      ],
      "window_display": false
    }
  },
  "nbformat": 4,
  "nbformat_minor": 0
}